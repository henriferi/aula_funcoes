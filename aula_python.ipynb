{
 "cells": [
  {
   "cell_type": "code",
   "execution_count": 3,
   "metadata": {},
   "outputs": [
    {
     "name": "stdout",
     "output_type": "stream",
     "text": [
      "Número  1\n",
      "Número  2\n",
      "Número  3\n",
      "Número  4\n",
      "Número  5\n"
     ]
    }
   ],
   "source": [
    "def funcaoLeitura():\n",
    "    for num in [1,2,3,4,5]:\n",
    "        print(\"Número \", num)\n",
    "        \n",
    "funcaoLeitura()"
   ]
  },
  {
   "cell_type": "code",
   "execution_count": 4,
   "metadata": {},
   "outputs": [
    {
     "name": "stdout",
     "output_type": "stream",
     "text": [
      "Número  0\n",
      "Número  1\n",
      "Número  2\n",
      "Número  3\n",
      "Número  4\n"
     ]
    }
   ],
   "source": [
    "def funcaoLeitura():\n",
    "    for num in range(5):\n",
    "        print(\"Número \", num)\n",
    "        \n",
    "funcaoLeitura()"
   ]
  },
  {
   "cell_type": "code",
   "execution_count": 7,
   "metadata": {},
   "outputs": [],
   "source": [
    "def addNum(n1, n2):\n",
    "    print(\"O primeiro número é: \", n1)\n",
    "    print(\"O segundo número é: \", n2)\n",
    "    print(\"A soma dos números é: \", n1 + n2)\n",
    "    \n",
    "\n"
   ]
  },
  {
   "cell_type": "code",
   "execution_count": 10,
   "metadata": {},
   "outputs": [
    {
     "name": "stdout",
     "output_type": "stream",
     "text": [
      "O primeiro número é:  1\n",
      "O segundo número é:  7\n",
      "A soma dos números é:  8\n"
     ]
    }
   ],
   "source": [
    "addNum(1,7)"
   ]
  },
  {
   "cell_type": "code",
   "execution_count": 21,
   "metadata": {},
   "outputs": [],
   "source": [
    "varGlobal = 10\n",
    "def multiplica(num1, num2):\n",
    "    varLocal = num1 * num2\n",
    "    print(\"Variável da função Multiplica: \", varLocal)\n",
    "    print(varLocal)"
   ]
  },
  {
   "cell_type": "code",
   "execution_count": 24,
   "metadata": {},
   "outputs": [
    {
     "name": "stdout",
     "output_type": "stream",
     "text": [
      "Variável da função Multiplica:  6\n",
      "6\n"
     ]
    }
   ],
   "source": [
    "multiplica(2,3)"
   ]
  },
  {
   "cell_type": "code",
   "execution_count": 27,
   "metadata": {},
   "outputs": [
    {
     "name": "stdout",
     "output_type": "stream",
     "text": [
      "Variável da função Multiplica:  20\n",
      "10\n"
     ]
    }
   ],
   "source": [
    "varGlobal = 10\n",
    "def multiplicacao(num1, num2):\n",
    "    varGlobal = (num1 * num2)\n",
    "    print(\"Variável da função Multiplica: \", varGlobal)\n",
    "    \n",
    "    \n",
    "multiplicacao(5,4) ##Aqui ele está pedindo 2 números como parametros e jogando dentro da variável varGlobal e depois printando o texto e o valor dessa variável varGlobal\n",
    "print(varGlobal) ##Aqui está apenas printando o valor da variável varGlobal que foi criada fora da função ou seja, ela não tem relação com a varial da função, apenas o mesmo nome."
   ]
  },
  {
   "cell_type": "code",
   "execution_count": 31,
   "metadata": {},
   "outputs": [
    {
     "name": "stdout",
     "output_type": "stream",
     "text": [
      "Parâmetro  0 Luquinhas\n",
      "Parâmetro  1 Madá\n",
      "Parâmetro  2 Giggio\n"
     ]
    }
   ],
   "source": [
    "def variosParametros(*parametros):\n",
    "    for n, item in enumerate(parametros):\n",
    "        print(\"Parâmetro \", n, item)\n",
    "    return\n",
    "\n",
    "\n",
    "variosParametros(\"Luquinhas\", \"Madá\", \"Giggio\")"
   ]
  },
  {
   "cell_type": "code",
   "execution_count": 43,
   "metadata": {},
   "outputs": [],
   "source": [
    "def soma(n1,n2):\n",
    "    return n1+n2\n",
    "\n",
    "def subtrai(n1,n2):\n",
    "    return n1-n2\n",
    "\n",
    "def multiplica(n1,n2):\n",
    "    return n1*n2\n",
    "\n",
    "def divide(n1,n2):\n",
    "    return n1/n2\n"
   ]
  },
  {
   "cell_type": "code",
   "execution_count": 46,
   "metadata": {},
   "outputs": [
    {
     "name": "stdout",
     "output_type": "stream",
     "text": [
      "+===========================+\n",
      "|     MENU DE OPERAÇÕES     |\n",
      "|      1- SOMAR             |\n",
      "|      2- SUBTRAIR          |\n",
      "|      3- MULTIPLICAR       |\n",
      "|      4- DIVIDIR           |\n",
      "|      0- SAIR              |\n",
      "+===========================+\n"
     ]
    }
   ],
   "source": [
    "while True:\n",
    "    print(\"+===========================+\")\n",
    "    print(\"|     MENU DE OPERAÇÕES     |\")\n",
    "    print(\"|      1- SOMAR             |\")\n",
    "    print(\"|      2- SUBTRAIR          |\")\n",
    "    print(\"|      3- MULTIPLICAR       |\")\n",
    "    print(\"|      4- DIVIDIR           |\")\n",
    "    print(\"|      0- SAIR              |\")\n",
    "    print(\"+===========================+\")\n",
    "    \n",
    "    \n",
    "    op = int(input())\n",
    "    if op==0:\n",
    "        break\n",
    "    \n",
    "    n1= int(input(\"Primeiro número: \"))\n",
    "    n2= int(input(\"Segundo número: \"))\n",
    "    \n",
    "    if op==1:\n",
    "        print(\"O resultado da soma é: \", soma(n1,n2))\n",
    "    elif op==2:\n",
    "        print(\"O resultado da subtração é: \", subtrai(n1,n2))\n",
    "    elif op==3:\n",
    "        print(\"O resultado da multiplicação é: \", multiplica(n1,n2))\n",
    "    elif op==4:\n",
    "        print(\"O resultado da divisão é: \", divide(n1,n2))\n",
    "        \n",
    "    else: \n",
    "        print(\"A opção não é válida\")\n",
    "        "
   ]
  }
 ],
 "metadata": {
  "kernelspec": {
   "display_name": "Python 3",
   "language": "python",
   "name": "python3"
  },
  "language_info": {
   "codemirror_mode": {
    "name": "ipython",
    "version": 3
   },
   "file_extension": ".py",
   "mimetype": "text/x-python",
   "name": "python",
   "nbconvert_exporter": "python",
   "pygments_lexer": "ipython3",
   "version": "3.11.9"
  }
 },
 "nbformat": 4,
 "nbformat_minor": 2
}
